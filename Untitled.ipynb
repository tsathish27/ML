{
 "cells": [
  {
   "cell_type": "code",
   "execution_count": 1,
   "id": "1eb6d429",
   "metadata": {},
   "outputs": [],
   "source": [
    "import pandas as pd\n",
    "import matplotlib.pyplot as plt\n",
    "from sklearn.cluster import KMeans"
   ]
  },
  {
   "cell_type": "code",
   "execution_count": 2,
   "id": "c8884a2e",
   "metadata": {},
   "outputs": [],
   "source": [
    "data = {'x': [2,2,8,5,7,6,1,4],\n",
    "'y': [10,5,4,8,5,4,2,9]}\n"
   ]
  },
  {
   "cell_type": "code",
   "execution_count": 8,
   "id": "37f9b65d",
   "metadata": {},
   "outputs": [
    {
     "data": {
      "text/html": [
       "<div>\n",
       "<style scoped>\n",
       "    .dataframe tbody tr th:only-of-type {\n",
       "        vertical-align: middle;\n",
       "    }\n",
       "\n",
       "    .dataframe tbody tr th {\n",
       "        vertical-align: top;\n",
       "    }\n",
       "\n",
       "    .dataframe thead th {\n",
       "        text-align: right;\n",
       "    }\n",
       "</style>\n",
       "<table border=\"1\" class=\"dataframe\">\n",
       "  <thead>\n",
       "    <tr style=\"text-align: right;\">\n",
       "      <th></th>\n",
       "      <th>x</th>\n",
       "      <th>y</th>\n",
       "    </tr>\n",
       "  </thead>\n",
       "  <tbody>\n",
       "    <tr>\n",
       "      <th>0</th>\n",
       "      <td>2</td>\n",
       "      <td>10</td>\n",
       "    </tr>\n",
       "    <tr>\n",
       "      <th>1</th>\n",
       "      <td>2</td>\n",
       "      <td>5</td>\n",
       "    </tr>\n",
       "    <tr>\n",
       "      <th>2</th>\n",
       "      <td>8</td>\n",
       "      <td>4</td>\n",
       "    </tr>\n",
       "    <tr>\n",
       "      <th>3</th>\n",
       "      <td>5</td>\n",
       "      <td>8</td>\n",
       "    </tr>\n",
       "    <tr>\n",
       "      <th>4</th>\n",
       "      <td>7</td>\n",
       "      <td>5</td>\n",
       "    </tr>\n",
       "    <tr>\n",
       "      <th>5</th>\n",
       "      <td>6</td>\n",
       "      <td>4</td>\n",
       "    </tr>\n",
       "    <tr>\n",
       "      <th>6</th>\n",
       "      <td>1</td>\n",
       "      <td>2</td>\n",
       "    </tr>\n",
       "    <tr>\n",
       "      <th>7</th>\n",
       "      <td>4</td>\n",
       "      <td>9</td>\n",
       "    </tr>\n",
       "  </tbody>\n",
       "</table>\n",
       "</div>"
      ],
      "text/plain": [
       "   x   y\n",
       "0  2  10\n",
       "1  2   5\n",
       "2  8   4\n",
       "3  5   8\n",
       "4  7   5\n",
       "5  6   4\n",
       "6  1   2\n",
       "7  4   9"
      ]
     },
     "execution_count": 8,
     "metadata": {},
     "output_type": "execute_result"
    }
   ],
   "source": [
    "df=pd.DataFrame(data,columns=['x','y'])\n",
    "df"
   ]
  },
  {
   "cell_type": "code",
   "execution_count": 9,
   "id": "19a6a4aa",
   "metadata": {},
   "outputs": [
    {
     "name": "stdout",
     "output_type": "stream",
     "text": [
      "Requirement already satisfied: PrettyTable in c:\\programdata\\anaconda3\\lib\\site-packages (3.4.1)\n",
      "Requirement already satisfied: wcwidth in c:\\programdata\\anaconda3\\lib\\site-packages (from PrettyTable) (0.2.5)\n",
      "Note: you may need to restart the kernel to use updated packages.\n"
     ]
    }
   ],
   "source": [
    "pip install PrettyTable"
   ]
  },
  {
   "cell_type": "code",
   "execution_count": 11,
   "id": "e7a57a48",
   "metadata": {},
   "outputs": [],
   "source": [
    "from prettytable import PrettyTable\n",
    "myTable = PrettyTable([\"Given Points\", \"Dist(2, 10)_Cluster-01\",\n",
    "\"Dist(5, 8)_Cluster-02\",\n",
    "\"Dist(1, 2)_Cluster-03\",\n",
    "\"Point belongs to Cluster\"])\n"
   ]
  },
  {
   "cell_type": "code",
   "execution_count": 12,
   "id": "af8d0712",
   "metadata": {},
   "outputs": [
    {
     "name": "stdout",
     "output_type": "stream",
     "text": [
      "+--------------+------------------------+-----------------------+-----------------------+--------------------------+\n",
      "| Given Points | Dist(2, 10)_Cluster-01 | Dist(5, 8)_Cluster-02 | Dist(1, 2)_Cluster-03 | Point belongs to Cluster |\n",
      "+--------------+------------------------+-----------------------+-----------------------+--------------------------+\n",
      "|  A1(2, 10)   |           0            |           5           |           9           |            C1            |\n",
      "|   A2(2, 5)   |           5            |           6           |           4           |            C3            |\n",
      "|   A3(8, 4)   |           12           |           7           |           9           |            C2            |\n",
      "|   A4(5, 8)   |           5            |           0           |           10          |            C2            |\n",
      "|   A5(7, 5)   |           10           |           5           |           9           |            C2            |\n",
      "|   A6(6, 4)   |           10           |           5           |           7           |            C2            |\n",
      "|   A7(1, 2)   |           9            |           10          |           0           |            C3            |\n",
      "|   A8(4, 9)   |           3            |           2           |           10          |            C2            |\n",
      "+--------------+------------------------+-----------------------+-----------------------+--------------------------+\n"
     ]
    }
   ],
   "source": [
    "myTable.add_row([\"A1(2, 10)\", \"0\", \"5\", \"9\",\"C1\"])\n",
    "myTable.add_row([\"A2(2, 5)\", \"5\", \"6\", \"4\",\"C3\"])\n",
    "myTable.add_row([\"A3(8, 4)\", \"12\", \"7\", \"9\",\"C2\"])\n",
    "myTable.add_row([\"A4(5, 8)\", \"5\", \"0\", \"10\",\"C2\"])\n",
    "myTable.add_row([\"A5(7, 5)\", \"10\", \"5\", \"9\",\"C2\"])\n",
    "myTable.add_row([\"A6(6, 4)\", \"10\", \"5\", \"7\",\"C2\"])\n",
    "myTable.add_row([\"A7(1, 2)\", \"9\", \"10\", \"0\",\"C3\"])\n",
    "myTable.add_row([\"A8(4, 9)\", \"3\", \"2\", \"10\",\"C2\"])\n",
    "print(myTable)"
   ]
  },
  {
   "cell_type": "code",
   "execution_count": 13,
   "id": "16b598ed",
   "metadata": {},
   "outputs": [
    {
     "name": "stdout",
     "output_type": "stream",
     "text": [
      "[[7.         4.33333333]\n",
      " [3.66666667 9.        ]\n",
      " [1.5        3.5       ]]\n"
     ]
    },
    {
     "data": {
      "image/png": "[encoded data removed]",
      "text/plain": [
       "<Figure size 432x288 with 1 Axes>"
      ]
     },
     "metadata": {
      "needs_background": "light"
     },
     "output_type": "display_data"
    }
   ],
   "source": [
    "kmeans = KMeans(n_clusters=3).fit(df)\n",
    "centroids = kmeans.cluster_centers_\n",
    "print(centroids)\n",
    "plt.scatter(df['x'], df['y'], c= kmeans.labels_.astype(float), s=50, alpha=0.5)\n",
    "plt.scatter(centroids[:, 0], centroids[:, 1], c='red', s=50)\n",
    "plt.show()"
   ]
  },
  {
   "cell_type": "code",
   "execution_count": null,
   "id": "b593af15",
   "metadata": {},
   "outputs": [],
   "source": []
  }
 ],
 "metadata": {
  "kernelspec": {
   "display_name": "Python 3 (ipykernel)",
   "language": "python",
   "name": "python3"
  },
  "language_info": {
   "codemirror_mode": {
    "name": "ipython",
    "version": 3
   },
   "file_extension": ".py",
   "mimetype": "text/x-python",
   "name": "python",
   "nbconvert_exporter": "python",
   "pygments_lexer": "ipython3",
   "version": "3.9.7"
  }
 },
 "nbformat": 4,
 "nbformat_minor": 5
}
