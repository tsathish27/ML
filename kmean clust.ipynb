{
 "cells": [
  {
   "cell_type": "code",
   "execution_count": 14,
   "id": "8ee7b435",
   "metadata": {},
   "outputs": [],
   "source": [
    "import numpy as np\n",
    "points=np.array([[2,19],[2,5],[8,4],[5,8],[7,5],[6,4],[1,2],[4,9]])\n",
    "initial_centers=np.array([[2,10],[5,8],[1,2]])\n",
    "def distance(point,center):\n",
    "    return np.abs(point[0]+np.abs(point[1]-center[1]))"
   ]
  },
  {
   "cell_type": "code",
   "execution_count": 9,
   "id": "97105268",
   "metadata": {},
   "outputs": [],
   "source": [
    "def assign_clusters(ppoints,centers):\n",
    "    clusters=[[]for _ in range(len(centers))]\n",
    "    for point in points:\n",
    "        distances=[distance(point,center)for center in centers]\n",
    "        clusters_index=np.argmin(distance)\n",
    "        clusters[clusters_index].append(point)\n",
    "        return[np.array(cluster)for cluster in clusters]"
   ]
  },
  {
   "cell_type": "code",
   "execution_count": 10,
   "id": "0763a41e",
   "metadata": {},
   "outputs": [],
   "source": [
    "def update_centers(clusters):\n",
    "    return np.array([np.mean(cluster,axis=0) for cluster in clusters])\n",
    "\n",
    "    "
   ]
  },
  {
   "cell_type": "code",
   "execution_count": 11,
   "id": "c3a55d10",
   "metadata": {},
   "outputs": [
    {
     "name": "stderr",
     "output_type": "stream",
     "text": [
      "C:\\ProgramData\\Anaconda3\\lib\\site-packages\\numpy\\core\\fromnumeric.py:3419: RuntimeWarning: Mean of empty slice.\n",
      "  return _methods._mean(a, axis=axis, dtype=dtype,\n",
      "C:\\ProgramData\\Anaconda3\\lib\\site-packages\\numpy\\core\\_methods.py:188: RuntimeWarning: invalid value encountered in double_scalars\n",
      "  ret = ret.dtype.type(ret / rcount)\n",
      "C:\\Users\\TEMP~1.MIT\\AppData\\Local\\Temp/ipykernel_6304/2334926127.py:2: VisibleDeprecationWarning: Creating an ndarray from ragged nested sequences (which is a list-or-tuple of lists-or-tuples-or ndarrays with different lengths or shapes) is deprecated. If you meant to do this, you must specify 'dtype=object' when creating the ndarray.\n",
      "  return np.array([np.mean(cluster,axis=0) for cluster in clusters])\n"
     ]
    }
   ],
   "source": [
    "for iteration in range(2):\n",
    "    clusters=assign_clusters(points,initial_centers)\n",
    "    new_centers=update_centers(clusters)\n",
    "    if np.array_equal(initial_centers,new_centers):\n",
    "        break\n",
    "        initial_centers =new_center\n",
    "    "
   ]
  },
  {
   "cell_type": "code",
   "execution_count": 13,
   "id": "630800f8",
   "metadata": {},
   "outputs": [
    {
     "name": "stdout",
     "output_type": "stream",
     "text": [
      "Final Cluster centers after the Second iteration :\n",
      "Cluster1:(2,10)\n",
      "Cluster2:(5,8)\n",
      "Cluster3:(1,2)\n"
     ]
    }
   ],
   "source": [
    "print(\"Final Cluster centers after the Second iteration :\")\n",
    "for i,center in enumerate(initial_centers):\n",
    "    print(f\"Cluster{i+1}:({center[0]},{center[1]})\")"
   ]
  },
  {
   "cell_type": "code",
   "execution_count": null,
   "id": "a547237c",
   "metadata": {},
   "outputs": [],
   "source": []
  }
 ],
 "metadata": {
  "kernelspec": {
   "display_name": "Python 3 (ipykernel)",
   "language": "python",
   "name": "python3"
  },
  "language_info": {
   "codemirror_mode": {
    "name": "ipython",
    "version": 3
   },
   "file_extension": ".py",
   "mimetype": "text/x-python",
   "name": "python",
   "nbconvert_exporter": "python",
   "pygments_lexer": "ipython3",
   "version": "3.9.7"
  }
 },
 "nbformat": 4,
 "nbformat_minor": 5
}
